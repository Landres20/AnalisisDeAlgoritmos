{
  "nbformat": 4,
  "nbformat_minor": 0,
  "metadata": {
    "colab": {
      "name": "AnalisisDeAlgoritmos.ipynb",
      "provenance": [],
      "authorship_tag": "ABX9TyNwWkxP703hFLYD2QiSLJkj",
      "include_colab_link": true
    },
    "kernelspec": {
      "name": "python3",
      "display_name": "Python 3"
    }
  },
  "cells": [
    {
      "cell_type": "markdown",
      "metadata": {
        "id": "view-in-github",
        "colab_type": "text"
      },
      "source": [
        "<a href=\"https://colab.research.google.com/github/Landres20/AnalisisDeAlgoritmos/blob/main/AnalisisDeAlgoritmos.ipynb\" target=\"_parent\"><img src=\"https://colab.research.google.com/assets/colab-badge.svg\" alt=\"Open In Colab\"/></a>"
      ]
    },
    {
      "cell_type": "markdown",
      "metadata": {
        "id": "_14x3_o_dncV"
      },
      "source": [
        "fibonaci iterativo"
      ]
    },
    {
      "cell_type": "code",
      "metadata": {
        "id": "dKkwb2FBdxso",
        "outputId": "467b8fcb-e0e3-475f-bde4-21740848b033",
        "colab": {
          "base_uri": "https://localhost:8080/",
          "height": 111
        }
      },
      "source": [
        "  def fibonaci_iterativo(x1):\n",
        "      res=0\n",
        "      i=0\n",
        "      while i<=x1:\n",
        "          res = res + i\n",
        "          i = i + 1\n",
        "          print(res)\n",
        "    \n",
        "      return res\n",
        "\n",
        "  fibonaci_iterativo(3)"
      ],
      "execution_count": 8,
      "outputs": [
        {
          "output_type": "stream",
          "text": [
            "0\n",
            "1\n",
            "3\n",
            "6\n"
          ],
          "name": "stdout"
        },
        {
          "output_type": "execute_result",
          "data": {
            "text/plain": [
              "6"
            ]
          },
          "metadata": {
            "tags": []
          },
          "execution_count": 8
        }
      ]
    },
    {
      "cell_type": "markdown",
      "metadata": {
        "id": "YJ_GuTOJhI0P"
      },
      "source": [
        "fibonaci recursivo"
      ]
    },
    {
      "cell_type": "code",
      "metadata": {
        "id": "BrD9Bw8shLUV",
        "outputId": "8789ee65-50d9-492e-b200-d6461c3504c2",
        "colab": {
          "base_uri": "https://localhost:8080/",
          "height": 54
        }
      },
      "source": [
        "  def fibonaciRec(x):\n",
        "      if x==1:\n",
        "          return 0\n",
        "      elif x==2:\n",
        "          return 1\n",
        "      else:\n",
        "          num = (fibonaciRec(x-1)+fibonaciRec(x-2))\n",
        "          print(num)\n",
        "          return num\n",
        "  fibonaciRec(3)"
      ],
      "execution_count": 14,
      "outputs": [
        {
          "output_type": "stream",
          "text": [
            "1\n"
          ],
          "name": "stdout"
        },
        {
          "output_type": "execute_result",
          "data": {
            "text/plain": [
              "1"
            ]
          },
          "metadata": {
            "tags": []
          },
          "execution_count": 14
        }
      ]
    },
    {
      "cell_type": "code",
      "metadata": {
        "id": "6TXIJu0miyFQ",
        "outputId": "ab801f13-86a8-4a77-8976-d6d55e2db1f0",
        "colab": {
          "base_uri": "https://localhost:8080/",
          "height": 92
        }
      },
      "source": [
        "import random\n",
        "\n",
        "def randomList(l):\n",
        "    newList = []\n",
        "    for i in range(0, l):\n",
        "        n = random.randint(1, 99)\n",
        "        newList.append(n);\n",
        "    return newList\n",
        "\n",
        "def bubbleSort(listLength):\n",
        "    randList = randomList(listLength)\n",
        "    print(randList)\n",
        "    for listLengthIndex in range(len(randList)-1):\n",
        "        for index in range(0, listLength-listLengthIndex-1):\n",
        "            if randList[index] > randList[index+1]:\n",
        "                swap = randList[index]\n",
        "                randList[index] = randList[index+1]\n",
        "                randList[index+1] = swap\n",
        "\n",
        "    print('\\nSorted:')\n",
        "    print(randList)\n",
        "\n",
        "bubbleSort(15)"
      ],
      "execution_count": 16,
      "outputs": [
        {
          "output_type": "stream",
          "text": [
            "[41, 26, 28, 29, 15, 39, 63, 64, 96, 39, 83, 75, 73, 18, 17]\n",
            "\n",
            "Sorted:\n",
            "[15, 17, 18, 26, 28, 29, 39, 39, 41, 63, 64, 73, 75, 83, 96]\n"
          ],
          "name": "stdout"
        }
      ]
    },
    {
      "cell_type": "markdown",
      "metadata": {
        "id": "xP7141HAl2ZZ"
      },
      "source": [
        "Bubble Sort (grupo de William)"
      ]
    },
    {
      "cell_type": "code",
      "metadata": {
        "id": "uTVXs1eZl6KD",
        "outputId": "7f0b968c-5b4a-47e0-fd33-c9aa780178e6",
        "colab": {
          "base_uri": "https://localhost:8080/",
          "height": 1000
        }
      },
      "source": [
        "from random import seed\n",
        "from random import randint\n",
        "import numpy as np\n",
        "\n",
        "def bubble_sort(cant):\n",
        "    listaDesordenada = []\n",
        "    seed(1)\n",
        "    for _ in range(cant):\n",
        "      listaDesordenada = np.append(listaDesordenada, randint(0,50))\n",
        "    veces = 0\n",
        "    for i in range(len(listaDesordenada)):\n",
        "        for j in range(len(listaDesordenada) - 1):\n",
        "            veces+=1\n",
        "            if listaDesordenada[j] > listaDesordenada[j+1]:\n",
        "                listaDesordenada[j], listaDesordenada[j+1] = listaDesordenada[j+1], listaDesordenada[j]\n",
        "    print(listaDesordenada)\n",
        "    return veces\n",
        "\n",
        "ns=[10, 50, 100, 1000, 5000, 10000, 20000]\n",
        "for n in ns:\n",
        "  veces = bubble_sort(n);\n",
        "  print(n , veces)"
      ],
      "execution_count": 17,
      "outputs": [
        {
          "output_type": "stream",
          "text": [
            "[ 4.  7.  8. 16. 28. 30. 31. 36. 48. 48.]\n",
            "10 90\n",
            "[ 0.  0.  1.  1.  1.  1.  1.  4.  6.  6.  7.  8. 13. 13. 14. 14. 14. 16.\n",
            " 17. 20. 24. 24. 24. 27. 27. 28. 28. 28. 30. 31. 31. 31. 33. 34. 35. 36.\n",
            " 37. 38. 41. 41. 43. 44. 46. 46. 48. 48. 48. 48. 49. 50.]\n",
            "50 2450\n",
            "[ 0.  0.  1.  1.  1.  1.  1.  1.  2.  4.  5.  6.  6.  6.  7.  7.  8. 11.\n",
            " 11. 12. 13. 13. 14. 14. 14. 14. 14. 15. 16. 17. 18. 18. 18. 19. 20. 21.\n",
            " 22. 23. 23. 24. 24. 24. 25. 25. 26. 26. 27. 27. 27. 28. 28. 28. 28. 29.\n",
            " 30. 30. 31. 31. 31. 31. 32. 32. 32. 33. 34. 35. 35. 35. 36. 37. 37. 37.\n",
            " 38. 40. 41. 41. 41. 42. 42. 43. 43. 43. 44. 44. 45. 46. 46. 46. 46. 47.\n",
            " 47. 47. 48. 48. 48. 48. 48. 49. 49. 50.]\n",
            "100 9900\n",
            "[ 0.  0.  0.  0.  0.  0.  0.  0.  0.  0.  0.  0.  0.  0.  0.  0.  0.  0.\n",
            "  0.  1.  1.  1.  1.  1.  1.  1.  1.  1.  1.  1.  1.  1.  1.  1.  1.  1.\n",
            "  1.  1.  1.  1.  1.  1.  1.  1.  1.  2.  2.  2.  2.  2.  2.  2.  2.  2.\n",
            "  2.  2.  2.  2.  2.  2.  2.  3.  3.  3.  3.  3.  3.  3.  3.  3.  4.  4.\n",
            "  4.  4.  4.  4.  4.  4.  4.  4.  4.  4.  4.  4.  4.  4.  4.  4.  4.  4.\n",
            "  4.  4.  4.  4.  4.  5.  5.  5.  5.  5.  5.  5.  5.  5.  5.  5.  5.  5.\n",
            "  5.  5.  5.  6.  6.  6.  6.  6.  6.  6.  6.  6.  6.  6.  6.  6.  6.  6.\n",
            "  6.  6.  6.  6.  6.  7.  7.  7.  7.  7.  7.  7.  7.  7.  7.  7.  7.  7.\n",
            "  7.  7.  7.  7.  7.  8.  8.  8.  8.  8.  8.  8.  8.  8.  8.  8.  8.  8.\n",
            "  8.  8.  8.  8.  9.  9.  9.  9.  9.  9.  9.  9.  9.  9.  9. 10. 10. 10.\n",
            " 10. 10. 10. 10. 10. 10. 10. 10. 10. 10. 10. 10. 10. 10. 10. 10. 10. 10.\n",
            " 10. 10. 10. 10. 10. 10. 10. 10. 11. 11. 11. 11. 11. 11. 11. 11. 11. 11.\n",
            " 11. 11. 11. 11. 11. 11. 11. 12. 12. 12. 12. 12. 12. 12. 12. 12. 12. 12.\n",
            " 12. 12. 12. 13. 13. 13. 13. 13. 13. 13. 13. 13. 13. 13. 13. 13. 13. 13.\n",
            " 13. 13. 13. 13. 13. 13. 13. 13. 13. 14. 14. 14. 14. 14. 14. 14. 14. 14.\n",
            " 14. 14. 14. 14. 14. 14. 14. 14. 14. 14. 14. 14. 15. 15. 15. 15. 15. 15.\n",
            " 15. 15. 15. 15. 15. 15. 15. 15. 15. 15. 15. 15. 15. 15. 16. 16. 16. 16.\n",
            " 16. 16. 16. 16. 16. 16. 16. 16. 16. 16. 16. 16. 16. 16. 16. 16. 16. 16.\n",
            " 16. 17. 17. 17. 17. 17. 17. 17. 17. 17. 17. 17. 17. 17. 17. 17. 17. 17.\n",
            " 17. 17. 17. 17. 17. 17. 18. 18. 18. 18. 18. 18. 18. 18. 18. 18. 18. 18.\n",
            " 18. 18. 18. 18. 18. 18. 18. 19. 19. 19. 19. 19. 19. 19. 19. 19. 19. 19.\n",
            " 19. 19. 19. 19. 19. 19. 19. 19. 19. 19. 19. 19. 19. 20. 20. 20. 20. 20.\n",
            " 20. 20. 20. 20. 20. 20. 20. 20. 20. 20. 20. 20. 20. 20. 20. 20. 20. 21.\n",
            " 21. 21. 21. 21. 21. 21. 21. 21. 21. 21. 21. 21. 21. 21. 21. 22. 22. 22.\n",
            " 22. 22. 22. 22. 22. 22. 22. 22. 22. 22. 22. 22. 22. 22. 22. 23. 23. 23.\n",
            " 23. 23. 23. 23. 23. 23. 23. 23. 23. 23. 24. 24. 24. 24. 24. 24. 24. 24.\n",
            " 24. 24. 24. 24. 24. 24. 24. 24. 24. 24. 24. 24. 25. 25. 25. 25. 25. 25.\n",
            " 25. 25. 25. 25. 25. 25. 25. 25. 25. 25. 25. 25. 25. 25. 25. 25. 25. 25.\n",
            " 25. 26. 26. 26. 26. 26. 26. 26. 26. 26. 26. 26. 26. 26. 26. 26. 26. 27.\n",
            " 27. 27. 27. 27. 27. 27. 27. 27. 27. 27. 27. 27. 27. 27. 27. 27. 27. 27.\n",
            " 28. 28. 28. 28. 28. 28. 28. 28. 28. 28. 28. 28. 28. 28. 28. 28. 28. 28.\n",
            " 28. 28. 28. 28. 28. 29. 29. 29. 29. 29. 29. 29. 29. 29. 29. 29. 29. 29.\n",
            " 29. 30. 30. 30. 30. 30. 30. 30. 30. 30. 30. 31. 31. 31. 31. 31. 31. 31.\n",
            " 31. 31. 31. 31. 31. 31. 31. 31. 31. 31. 31. 31. 31. 31. 31. 32. 32. 32.\n",
            " 32. 32. 32. 32. 32. 32. 32. 32. 32. 32. 32. 32. 32. 32. 32. 32. 32. 32.\n",
            " 32. 32. 32. 32. 32. 32. 32. 33. 33. 33. 33. 33. 33. 33. 33. 33. 33. 33.\n",
            " 33. 33. 33. 33. 33. 34. 34. 34. 34. 34. 34. 34. 34. 34. 34. 34. 34. 34.\n",
            " 34. 34. 34. 34. 34. 34. 34. 34. 34. 34. 34. 35. 35. 35. 35. 35. 35. 35.\n",
            " 35. 35. 35. 35. 35. 35. 35. 35. 35. 35. 35. 35. 35. 35. 35. 35. 35. 36.\n",
            " 36. 36. 36. 36. 36. 36. 36. 36. 36. 36. 36. 36. 36. 36. 36. 36. 36. 36.\n",
            " 36. 37. 37. 37. 37. 37. 37. 37. 37. 37. 37. 37. 37. 37. 37. 37. 37. 37.\n",
            " 37. 37. 37. 37. 37. 38. 38. 38. 38. 38. 38. 38. 38. 38. 38. 38. 38. 38.\n",
            " 38. 38. 38. 38. 38. 38. 38. 39. 39. 39. 39. 39. 39. 39. 39. 39. 39. 39.\n",
            " 39. 39. 39. 39. 39. 39. 39. 39. 39. 39. 40. 40. 40. 40. 40. 40. 40. 40.\n",
            " 40. 40. 40. 40. 40. 40. 40. 40. 41. 41. 41. 41. 41. 41. 41. 41. 41. 41.\n",
            " 41. 41. 41. 41. 41. 41. 41. 41. 42. 42. 42. 42. 42. 42. 42. 42. 42. 42.\n",
            " 42. 42. 42. 42. 42. 42. 42. 43. 43. 43. 43. 43. 43. 43. 43. 43. 43. 43.\n",
            " 43. 43. 43. 43. 43. 43. 43. 43. 43. 43. 43. 43. 44. 44. 44. 44. 44. 44.\n",
            " 44. 44. 44. 44. 44. 44. 44. 44. 44. 44. 45. 45. 45. 45. 45. 45. 45. 45.\n",
            " 45. 45. 45. 45. 45. 45. 45. 45. 45. 45. 45. 45. 45. 46. 46. 46. 46. 46.\n",
            " 46. 46. 46. 46. 46. 46. 46. 46. 46. 46. 46. 46. 46. 46. 46. 46. 46. 46.\n",
            " 46. 47. 47. 47. 47. 47. 47. 47. 47. 47. 47. 47. 47. 47. 47. 47. 47. 47.\n",
            " 47. 47. 47. 48. 48. 48. 48. 48. 48. 48. 48. 48. 48. 48. 48. 48. 48. 48.\n",
            " 48. 48. 49. 49. 49. 49. 49. 49. 49. 49. 49. 49. 49. 49. 49. 49. 49. 49.\n",
            " 49. 49. 49. 49. 49. 50. 50. 50. 50. 50. 50. 50. 50. 50. 50. 50. 50. 50.\n",
            " 50. 50. 50. 50. 50. 50. 50. 50. 50. 50.]\n",
            "1000 999000\n",
            "[ 0.  0.  0. ... 50. 50. 50.]\n",
            "5000 24995000\n",
            "[ 0.  0.  0. ... 50. 50. 50.]\n",
            "10000 99990000\n"
          ],
          "name": "stdout"
        },
        {
          "output_type": "error",
          "ename": "KeyboardInterrupt",
          "evalue": "ignored",
          "traceback": [
            "\u001b[0;31m---------------------------------------------------------------------------\u001b[0m",
            "\u001b[0;31mKeyboardInterrupt\u001b[0m                         Traceback (most recent call last)",
            "\u001b[0;32m<ipython-input-17-8c75b3602b63>\u001b[0m in \u001b[0;36m<module>\u001b[0;34m()\u001b[0m\n\u001b[1;32m     19\u001b[0m \u001b[0mns\u001b[0m\u001b[0;34m=\u001b[0m\u001b[0;34m[\u001b[0m\u001b[0;36m10\u001b[0m\u001b[0;34m,\u001b[0m \u001b[0;36m50\u001b[0m\u001b[0;34m,\u001b[0m \u001b[0;36m100\u001b[0m\u001b[0;34m,\u001b[0m \u001b[0;36m1000\u001b[0m\u001b[0;34m,\u001b[0m \u001b[0;36m5000\u001b[0m\u001b[0;34m,\u001b[0m \u001b[0;36m10000\u001b[0m\u001b[0;34m,\u001b[0m \u001b[0;36m20000\u001b[0m\u001b[0;34m]\u001b[0m\u001b[0;34m\u001b[0m\u001b[0;34m\u001b[0m\u001b[0m\n\u001b[1;32m     20\u001b[0m \u001b[0;32mfor\u001b[0m \u001b[0mn\u001b[0m \u001b[0;32min\u001b[0m \u001b[0mns\u001b[0m\u001b[0;34m:\u001b[0m\u001b[0;34m\u001b[0m\u001b[0;34m\u001b[0m\u001b[0m\n\u001b[0;32m---> 21\u001b[0;31m   \u001b[0mveces\u001b[0m \u001b[0;34m=\u001b[0m \u001b[0mbubble_sort\u001b[0m\u001b[0;34m(\u001b[0m\u001b[0mn\u001b[0m\u001b[0;34m)\u001b[0m\u001b[0;34m;\u001b[0m\u001b[0;34m\u001b[0m\u001b[0;34m\u001b[0m\u001b[0m\n\u001b[0m\u001b[1;32m     22\u001b[0m   \u001b[0mprint\u001b[0m\u001b[0;34m(\u001b[0m\u001b[0mn\u001b[0m \u001b[0;34m,\u001b[0m \u001b[0mveces\u001b[0m\u001b[0;34m)\u001b[0m\u001b[0;34m\u001b[0m\u001b[0;34m\u001b[0m\u001b[0m\n",
            "\u001b[0;32m<ipython-input-17-8c75b3602b63>\u001b[0m in \u001b[0;36mbubble_sort\u001b[0;34m(cant)\u001b[0m\n\u001b[1;32m     12\u001b[0m         \u001b[0;32mfor\u001b[0m \u001b[0mj\u001b[0m \u001b[0;32min\u001b[0m \u001b[0mrange\u001b[0m\u001b[0;34m(\u001b[0m\u001b[0mlen\u001b[0m\u001b[0;34m(\u001b[0m\u001b[0mlistaDesordenada\u001b[0m\u001b[0;34m)\u001b[0m \u001b[0;34m-\u001b[0m \u001b[0;36m1\u001b[0m\u001b[0;34m)\u001b[0m\u001b[0;34m:\u001b[0m\u001b[0;34m\u001b[0m\u001b[0;34m\u001b[0m\u001b[0m\n\u001b[1;32m     13\u001b[0m             \u001b[0mveces\u001b[0m\u001b[0;34m+=\u001b[0m\u001b[0;36m1\u001b[0m\u001b[0;34m\u001b[0m\u001b[0;34m\u001b[0m\u001b[0m\n\u001b[0;32m---> 14\u001b[0;31m             \u001b[0;32mif\u001b[0m \u001b[0mlistaDesordenada\u001b[0m\u001b[0;34m[\u001b[0m\u001b[0mj\u001b[0m\u001b[0;34m]\u001b[0m \u001b[0;34m>\u001b[0m \u001b[0mlistaDesordenada\u001b[0m\u001b[0;34m[\u001b[0m\u001b[0mj\u001b[0m\u001b[0;34m+\u001b[0m\u001b[0;36m1\u001b[0m\u001b[0;34m]\u001b[0m\u001b[0;34m:\u001b[0m\u001b[0;34m\u001b[0m\u001b[0;34m\u001b[0m\u001b[0m\n\u001b[0m\u001b[1;32m     15\u001b[0m                 \u001b[0mlistaDesordenada\u001b[0m\u001b[0;34m[\u001b[0m\u001b[0mj\u001b[0m\u001b[0;34m]\u001b[0m\u001b[0;34m,\u001b[0m \u001b[0mlistaDesordenada\u001b[0m\u001b[0;34m[\u001b[0m\u001b[0mj\u001b[0m\u001b[0;34m+\u001b[0m\u001b[0;36m1\u001b[0m\u001b[0;34m]\u001b[0m \u001b[0;34m=\u001b[0m \u001b[0mlistaDesordenada\u001b[0m\u001b[0;34m[\u001b[0m\u001b[0mj\u001b[0m\u001b[0;34m+\u001b[0m\u001b[0;36m1\u001b[0m\u001b[0;34m]\u001b[0m\u001b[0;34m,\u001b[0m \u001b[0mlistaDesordenada\u001b[0m\u001b[0;34m[\u001b[0m\u001b[0mj\u001b[0m\u001b[0;34m]\u001b[0m\u001b[0;34m\u001b[0m\u001b[0;34m\u001b[0m\u001b[0m\n\u001b[1;32m     16\u001b[0m     \u001b[0mprint\u001b[0m\u001b[0;34m(\u001b[0m\u001b[0mlistaDesordenada\u001b[0m\u001b[0;34m)\u001b[0m\u001b[0;34m\u001b[0m\u001b[0;34m\u001b[0m\u001b[0m\n",
            "\u001b[0;31mKeyboardInterrupt\u001b[0m: "
          ]
        }
      ]
    },
    {
      "cell_type": "markdown",
      "metadata": {
        "id": "okoOaMyOmYDI"
      },
      "source": [
        "Bubble sort cambiado a insertion sort"
      ]
    },
    {
      "cell_type": "code",
      "metadata": {
        "id": "nTnbkY6hmBEb",
        "outputId": "9965c083-2488-4df4-8cad-a9ef17147562",
        "colab": {
          "base_uri": "https://localhost:8080/",
          "height": 73
        }
      },
      "source": [
        "from random import seed\n",
        "from random import randint\n",
        "import numpy as np\n",
        "\n",
        "def bubble_sort(cant):\n",
        "  listaDesordenada = []\n",
        "  seed(1)\n",
        "  \n",
        "  for _ in range(cant):\n",
        "    listaDesordenada = np.append(listaDesordenada, randint(0, 50))\n",
        "  \n",
        "  print(listaDesordenada)\n",
        "  \n",
        "  veces = 0\n",
        "  for i in range(len(listaDesordenada)):\n",
        "    for j in range(i, 0, -1):\n",
        "      veces += 1\n",
        "      if listaDesordenada[j] < listaDesordenada[j-1]:\n",
        "        listaDesordenada[j], listaDesordenada[j-1] = listaDesordenada[j-1], listaDesordenada[j]\n",
        "      else:\n",
        "        break\n",
        "  \n",
        "  print(listaDesordenada)\n",
        "  return veces\n",
        "\n",
        "bubble_sort(10)"
      ],
      "execution_count": 18,
      "outputs": [
        {
          "output_type": "stream",
          "text": [
            "[ 8. 36. 48.  4. 16.  7. 31. 48. 28. 30.]\n",
            "[ 4.  7.  8. 16. 28. 30. 31. 36. 48. 48.]\n"
          ],
          "name": "stdout"
        },
        {
          "output_type": "execute_result",
          "data": {
            "text/plain": [
              "27"
            ]
          },
          "metadata": {
            "tags": []
          },
          "execution_count": 18
        }
      ]
    }
  ]
}